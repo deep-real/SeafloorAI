{
 "cells": [
  {
   "cell_type": "code",
   "execution_count": 1,
   "metadata": {},
   "outputs": [],
   "source": [
    "from PIL import Image\n",
    "import numpy as np\n",
    "import matplotlib.pyplot as plt\n",
    "import geopandas as gpd\n",
    "import rasterio\n",
    "from rasterio.merge import merge\n",
    "from rasterio.plot import show\n",
    "import os\n",
    "Image.MAX_IMAGE_PIXELS = None\n",
    "%matplotlib inline\n",
    "\n",
    "INPUT_FILE = \"...\" # replace input raster path\n",
    "OUTPUT_FILE = \"...\" # replace output raster path"
   ]
  },
  {
   "cell_type": "code",
   "execution_count": null,
   "metadata": {},
   "outputs": [],
   "source": [
    "with rasterio.open(INPUT_FILE) as dataset:\n",
    "    transform = dataset.transform\n",
    "    print(f\"Transform: {transform}\")\n",
    "    pixelSizeX = dataset.transform[0]\n",
    "    pixelSizeY = -dataset.transform[4]  # Note the negative sign for ysize\n",
    "    print(f\"Pixel Size X: {pixelSizeX}, Pixel Size Y: {pixelSizeY}\")\n",
    "    image_numpy = np.array(dataset.read(1))\n",
    "    print(f\"CRS: {dataset.crs}\")\n",
    "    print(dataset.meta['nodata'])\n",
    "    print(dataset.count)\n",
    "    plt.imshow(dataset.read(1), cmap='terrain')\n",
    "    plt.show()"
   ]
  },
  {
   "cell_type": "code",
   "execution_count": null,
   "metadata": {},
   "outputs": [],
   "source": [
    "from rasterio.enums import Resampling\n",
    "# Determine the new resolution\n",
    "new_resolution = None # replace with new resolution (e.g, 2.0)\n",
    "old_resolution = None # replace with old resolution (e.g, 4.0)\n",
    "\n",
    "with rasterio.open(INPUT_FILE) as dataset:\n",
    "\n",
    "    # Nodata value\n",
    "    nodata_value = dataset.meta['nodata']\n",
    "    print(dataset.meta['dtype'])\n",
    "    print(dataset.transform)\n",
    "    print(dataset.count)\n",
    "\n",
    "    # Calculate the upscale factor\n",
    "    upscale_factor = old_resolution / new_resolution\n",
    "    # Read the dataset's band into memory (consider reading in chunks if it's very large)\n",
    "    data = dataset.read(\n",
    "        out_shape=(\n",
    "            dataset.count,\n",
    "            int(dataset.height * upscale_factor),\n",
    "            int(dataset.width * upscale_factor)\n",
    "        ),\n",
    "        resampling=Resampling.bilinear  # You can choose other resampling methods as well\n",
    "    ).astype(np.float32)\n",
    "\n",
    "    # Update the dataset's transform (affine matrix)\n",
    "    new_transform = dataset.transform * dataset.transform.scale(\n",
    "        (dataset.width / data.shape[-1]),\n",
    "        (dataset.height / data.shape[-2])\n",
    "    )\n",
    "\n",
    "    with rasterio.Env():\n",
    "\n",
    "        # Write an array as a raster band to a new 8-bit file. For\n",
    "        # the new file's profile, we start with the profile of the source\n",
    "        profile = dataset.profile\n",
    "\n",
    "        # And then change the band count to 1, set the\n",
    "        # dtype to uint8, and specify LZW compression.\n",
    "        profile.update(\n",
    "            dtype=rasterio.float32,\n",
    "            count=1, # assuming number of band is 1\n",
    "            transform=new_transform,\n",
    "            height=int(dataset.height * upscale_factor),\n",
    "            width=int(dataset.width * upscale_factor),\n",
    "            nodata=None,\n",
    "            compress='lzw')\n",
    "\n",
    "        with rasterio.open(OUTPUT_FILE, 'w', **profile) as dst:\n",
    "            dst.write(data)\n"
   ]
  }
 ],
 "metadata": {
  "kernelspec": {
   "display_name": "venv",
   "language": "python",
   "name": "python3"
  },
  "language_info": {
   "codemirror_mode": {
    "name": "ipython",
    "version": 3
   },
   "file_extension": ".py",
   "mimetype": "text/x-python",
   "name": "python",
   "nbconvert_exporter": "python",
   "pygments_lexer": "ipython3",
   "version": "3.6.9"
  }
 },
 "nbformat": 4,
 "nbformat_minor": 2
}
