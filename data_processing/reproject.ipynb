{
 "cells": [
  {
   "cell_type": "code",
   "execution_count": null,
   "metadata": {},
   "outputs": [],
   "source": [
    "import os\n",
    "import rasterio\n",
    "from rasterio.warp import calculate_default_transform, reproject, Resampling\n",
    "from pyproj import CRS # don't use rasterio CRS\n",
    "\n",
    "def reproject_to_crs(crs, input_path, output_path):\n",
    "    new_crs = CRS.from_epsg(crs)\n",
    "    with rasterio.open(input_path) as dataset:\n",
    "        original_crs = dataset.crs\n",
    "        transform = dataset.transform\n",
    "        data = dataset.read()\n",
    "        print(data.shape)\n",
    "\n",
    "        # Calculate the transform and dimensions for the new CRS\n",
    "        new_transform, new_width, new_height = calculate_default_transform(\n",
    "            original_crs, new_crs, dataset.width, dataset.height, *dataset.bounds)\n",
    "        \n",
    "        # Define metadata for the output raster\n",
    "        out_meta = dataset.meta.copy()\n",
    "        out_meta.update({\n",
    "            \"crs\": new_crs,\n",
    "            \"transform\": new_transform,\n",
    "            \"width\": new_width,\n",
    "            \"height\": new_height\n",
    "        })\n",
    "        \n",
    "        # Reproject and write each band\n",
    "        with rasterio.open(output_path, 'w', **out_meta) as dst:\n",
    "            for i in range(1, dataset.count + 1):  # Loop through each band\n",
    "                reproject(\n",
    "                    source=rasterio.band(dataset, i),\n",
    "                    destination=rasterio.band(dst, i),\n",
    "                    src_transform=transform,\n",
    "                    src_crs=original_crs,\n",
    "                    dst_transform=new_transform,\n",
    "                    dst_crs=new_crs,\n",
    "                    resampling=Resampling.nearest)  # Choose resampling method as needed"
   ]
  }
 ],
 "metadata": {
  "language_info": {
   "name": "python"
  }
 },
 "nbformat": 4,
 "nbformat_minor": 2
}
