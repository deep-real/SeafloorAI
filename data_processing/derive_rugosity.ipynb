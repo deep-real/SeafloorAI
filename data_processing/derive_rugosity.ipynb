{
 "cells": [
  {
   "cell_type": "code",
   "execution_count": 1,
   "metadata": {},
   "outputs": [],
   "source": [
    "import numpy as np\n",
    "import matplotlib.pyplot as plt\n",
    "import geopandas as gpd\n",
    "from collections import namedtuple\n",
    "import rasterio\n",
    "%matplotlib inline\n",
    "import gdal\n",
    "\n",
    "bathymetry_path = \"...\" # replace input bathymetry tif path\n",
    "rugosity_path = \"...\" # replace output rugosity tif path"
   ]
  },
  {
   "cell_type": "code",
   "execution_count": 2,
   "metadata": {},
   "outputs": [],
   "source": [
    "def generate_rugosity(bathymetry_path, rugosity_path):\n",
    "    with rasterio.open(bathymetry_path, 'r') as src:\n",
    "        nodata = src.meta['nodata']\n",
    "        bathymetry = src.read(1)\n",
    "\n",
    "        if nodata is not None:\n",
    "            bathymetry[bathymetry == nodata] = np.nan\n",
    "\n",
    "        # Calculate gradients\n",
    "        grad_x, grad_y = np.gradient(bathymetry)\n",
    "        \n",
    "        # Calculate the actual surface area within each cell\n",
    "        actual_area = np.sqrt(grad_x**2 + grad_y**2 + 1)\n",
    "\n",
    "        # Calculate planar area assuming each pixel is a square of 1m*1m if not specify the real dimension\n",
    "        planar_area = np.ones_like(bathymetry) * 2.5 * 2.5 # (100 is the planar area)\n",
    "\n",
    "        grad_x, grad_y, bathymetry = None, None, None # this solves out of memory issue\n",
    "        \n",
    "        # Calculate rugosity: actual_area / planar_area\n",
    "        rugosity = actual_area / planar_area\n",
    "\n",
    "        with rasterio.open(rugosity_path, 'w', **src.meta) as dst:\n",
    "            dst.write(rugosity, 1)\n",
    "\n",
    "generate_rugosity(bathymetry_path, rugosity_path)\n"
   ]
  },
  {
   "cell_type": "code",
   "execution_count": null,
   "metadata": {},
   "outputs": [],
   "source": [
    "with rasterio.open(rugosity_path) as dataset:\n",
    "    print(f\"Nodata value: {dataset.meta['nodata']}\")\n",
    "    transform = dataset.transform\n",
    "    print(f\"Transform: {transform}\")\n",
    "    pixelSizeX = dataset.transform[0]\n",
    "    pixelSizeY = -dataset.transform[4]  # Note the negative sign for ysize\n",
    "    print(f\"Pixel Size X: {pixelSizeX}, Pixel Size Y: {pixelSizeY}\")"
   ]
  },
  {
   "cell_type": "code",
   "execution_count": null,
   "metadata": {},
   "outputs": [],
   "source": []
  }
 ],
 "metadata": {
  "kernelspec": {
   "display_name": "venv",
   "language": "python",
   "name": "python3"
  },
  "language_info": {
   "codemirror_mode": {
    "name": "ipython",
    "version": 3
   },
   "file_extension": ".py",
   "mimetype": "text/x-python",
   "name": "python",
   "nbconvert_exporter": "python",
   "pygments_lexer": "ipython3",
   "version": "3.6.9"
  }
 },
 "nbformat": 4,
 "nbformat_minor": 2
}
