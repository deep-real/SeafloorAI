{
 "cells": [
  {
   "cell_type": "code",
   "execution_count": 1,
   "metadata": {},
   "outputs": [],
   "source": [
    "import numpy as np\n",
    "import matplotlib.pyplot as plt\n",
    "import geopandas as gpd\n",
    "from collections import namedtuple\n",
    "import rasterio\n",
    "%matplotlib inline\n",
    "import gdal\n",
    "\n",
    "bathymetry_path = \"...\" # replace input bathymetry tif path\n",
    "rugosity_path = \"...\" # replace output rugosity tif path"
   ]
  },
  {
   "cell_type": "code",
   "execution_count": 2,
   "metadata": {},
   "outputs": [],
   "source": [
    "def generate_slope(bathymetry_path, slope_path):\n",
    "    \"\"\"\n",
    "    Generate a slope raster from a DEM.\n",
    "    :param bathymetry_path: Path to the input DEM raster file.\n",
    "    :param slope_path: Path where the slope output will be saved.\n",
    "    \"\"\"\n",
    "    dem = gdal.Open(bathymetry_path)\n",
    "    \n",
    "    # GDAL's DEM processing function\n",
    "    gdal.DEMProcessing(slope_path, dem, 'slope', format='GTiff')\n",
    "    dem = None  # Close the file\n",
    "\n",
    "# Example usage\n",
    "\n",
    "generate_slope(bathymetry_path, slope_path)\n"
   ]
  },
  {
   "cell_type": "code",
   "execution_count": null,
   "metadata": {},
   "outputs": [],
   "source": [
    "with rasterio.open(slope_path) as dataset:\n",
    "    print(f\"Nodata value: {dataset.meta['nodata']}\")\n",
    "    transform = dataset.transform\n",
    "    print(f\"Transform: {transform}\")\n",
    "    pixelSizeX = dataset.transform[0]\n",
    "    pixelSizeY = -dataset.transform[4]  # Note the negative sign for ysize\n",
    "    print(f\"Pixel Size X: {pixelSizeX}, Pixel Size Y: {pixelSizeY}\")"
   ]
  },
  {
   "cell_type": "code",
   "execution_count": null,
   "metadata": {},
   "outputs": [],
   "source": []
  }
 ],
 "metadata": {
  "kernelspec": {
   "display_name": "venv",
   "language": "python",
   "name": "python3"
  },
  "language_info": {
   "codemirror_mode": {
    "name": "ipython",
    "version": 3
   },
   "file_extension": ".py",
   "mimetype": "text/x-python",
   "name": "python",
   "nbconvert_exporter": "python",
   "pygments_lexer": "ipython3",
   "version": "3.6.9"
  }
 },
 "nbformat": 4,
 "nbformat_minor": 2
}
