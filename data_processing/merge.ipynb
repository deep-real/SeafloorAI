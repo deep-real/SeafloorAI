{
 "cells": [
  {
   "cell_type": "code",
   "execution_count": 1,
   "metadata": {},
   "outputs": [],
   "source": [
    "import numpy as np\n",
    "import matplotlib.pyplot as plt\n",
    "import rasterio\n",
    "from rasterio.merge import merge\n",
    "from rasterio.plot import show\n",
    "from scipy.ndimage import median_filter\n",
    "import os\n",
    "%matplotlib inline\n",
    "\n",
    "# install pyproj first via pip install\n",
    "os.environ['PROJ_LIB'] = \"<path-to-virtualenv>/lib64/python3.6/site-packages/pyproj/proj_dir/share/proj/proj.db\""
   ]
  },
  {
   "cell_type": "code",
   "execution_count": 2,
   "metadata": {},
   "outputs": [],
   "source": [
    "def merge_rasters(rasters):\n",
    "    src_files = []\n",
    "    for path in rasters:\n",
    "        src = rasterio.open(path)\n",
    "        src_files.append(src)\n",
    "    \n",
    "    mosaic, out_transforms = merge(src_files, method='max', resampling=rasterio.enums.Resampling.nearest)\n",
    "    # Define the metadata for the output file based on one of the input files\n",
    "    out_meta = src.meta.copy()\n",
    "\n",
    "    # Update the metadata with new dimensions, transform, and compress (if desired)\n",
    "    out_meta.update({\"driver\": \"GTiff\",\n",
    "                    \"height\": mosaic.shape[1],\n",
    "                    \"width\": mosaic.shape[2],\n",
    "                    \"transform\": out_transforms,\n",
    "                    \"count\": 1,\n",
    "                    \"nodata\": 255.,\n",
    "                    \"compress\": \"lzw\"})\n",
    "    return mosaic, out_meta"
   ]
  },
  {
   "cell_type": "code",
   "execution_count": 3,
   "metadata": {},
   "outputs": [],
   "source": [
    "# change CRS\n",
    "from rasterio.warp import calculate_default_transform, reproject, Resampling\n",
    "from pyproj import CRS # don't use rasterio CRS\n",
    "\n",
    "RASTER_DIR = \"...\" # directory containing all the rasters to be merged\n",
    "\n",
    "# surveys = ['SaltPointCA', 'FortRossCA', 'BodegaHeadCA', 'TomalesPointCA', 'PointReyesCA',\n",
    "#            'DrakesBayCA', 'BolinasCA', 'SanFranciscoCA', 'PacificaCA', 'HalfMoonBayCA',\n",
    "#            'SanGregorioCA', 'PigeonPointCA', 'ScottCreekCA', 'SantaCruzCA', 'AptosCA']\n",
    "\n",
    "surveys = ['PointConceptionCA', 'GaviotaCA', 'RefugioBeachCA', 'CoalOilPointCA', 'SantaBarbaraCA',\n",
    "           'CarpinteriaCA', 'VenturaCA', 'HuenemeCanyonCA']\n",
    "\n",
    "# surveys = ['CapeMendocinoCA', 'EelRiverCA', 'EurekaCA', 'ArcataCA']\n",
    "\n",
    "# surveys = ['PointBuchonCA', 'PointEsteroCA', 'MorroBayCA']\n",
    "\n",
    "# directory should be organized as Region -> Survey Name -> <layer-name>.tif\n",
    "rasters = [os.path.join(RASTER_DIR, sur, '<layer-name>.tif') for sur in surveys]\n",
    "mosaic, out_meta = merge_rasters(rasters)"
   ]
  },
  {
   "cell_type": "code",
   "execution_count": 5,
   "metadata": {},
   "outputs": [],
   "source": [
    "# Save to disk\n",
    "with rasterio.open(os.path.join(RASTER_DIR, \"<region>\", \"<layer-name>.tif\"), 'w', **out_meta) as dst:\n",
    "    dst.write(mosaic)"
   ]
  }
 ],
 "metadata": {
  "kernelspec": {
   "display_name": "venv",
   "language": "python",
   "name": "python3"
  },
  "language_info": {
   "codemirror_mode": {
    "name": "ipython",
    "version": 3
   },
   "file_extension": ".py",
   "mimetype": "text/x-python",
   "name": "python",
   "nbconvert_exporter": "python",
   "pygments_lexer": "ipython3",
   "version": "3.6.9"
  }
 },
 "nbformat": 4,
 "nbformat_minor": 2
}
